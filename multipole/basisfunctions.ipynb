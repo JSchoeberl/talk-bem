{
 "cells": [
  {
   "cell_type": "markdown",
   "id": "433efbb7-f65f-42ea-85ce-a11907a42c4a",
   "metadata": {},
   "source": [
    "# Multipole basis functions\n",
    "\n",
    "The building blocks for multipole expansions are spherical harmonics, as well as spherical Bessel and Hankel functions. They arise from separation of variables of the Helmholtz operator, in spherical coordinates. We only state the results, for derivation we refer to the cited literature."
   ]
  },
  {
   "cell_type": "markdown",
   "id": "abe9a20a-0803-4281-94ab-b2e7ea1c5b5f",
   "metadata": {},
   "source": [
    "We define singular and regular multipoles as the following series:\n",
    "\n",
    "$$\n",
    "S(x) = \\sum_{n=0}^\\infty \\sum_{m=-n}^n  a_{nm} h_n(r) Y_n^m(\\hat x)\n",
    "$$\n",
    "\n",
    "$$\n",
    "R(x) = \\sum_{n=0}^\\infty \\sum_{m=-n}^n  b_{nm} j_n(r) Y_n^m(\\hat x)\n",
    "$$\n",
    "\n",
    "where \n",
    "* $r = |x|$, $\\hat x = x/r$\n",
    "* $a_{nm}$ and $b_{nm}$ are complex-valued expansion coefficients\n",
    "* $h_n$ and $j_n$ are spherical Hankel and Bessel functions, see below\n",
    "* $Y_n^m$ are so called spherical harmonics, an orthogonal basis on the sphere, see below"
   ]
  },
  {
   "cell_type": "markdown",
   "id": "e196a91b-0773-41ea-ba56-ea56bc92e08b",
   "metadata": {},
   "source": [
    "## Spherical harmonics\n",
    "\n",
    "For $n = 0, 1, 2, \\ldots$ and $-n \\leq m \\leq n$ we define\n",
    "\n",
    "$$\n",
    "Y_n^m(\\theta, \\varphi) = (-1)^m \\sqrt{\\frac{2n+1}{4\\pi} \\frac{(n-|m|)!}{(n+|m|)!}} P_n^{|m|} (\\cos \\theta) e^{im\\varphi}\n",
    "$$\n",
    "\n",
    "with the associated Legendre functions $P_n^m$, for $m \\leq n$ are defined as:\n",
    "(TODO)\n",
    "\n",
    "We call $n$ the degree, and $m$ the order. Spherical harmonics with the same degree are combined with the same Hankel or Bessel functions.\n",
    "\n",
    "The polar angle $\\theta \\in [0,\\pi]$ and the azimuthal angle $\\varphi \\in [-\\pi, \\pi)$  are defined such that\n",
    "\n",
    "$$\n",
    "\\hat x = (\\cos(\\varphi) \\sin(\\theta), \\sin(\\varphi) \\sin(\\theta), \\cos(\\theta))\n",
    "$$"
   ]
  },
  {
   "cell_type": "code",
   "execution_count": null,
   "id": "f6412613-782c-44af-9d09-54ee6857f79c",
   "metadata": {},
   "outputs": [],
   "source": [
    "from ngsolve import *\n",
    "from netgen.occ import *\n",
    "from ngsolve.webgui import Draw\n",
    "\n",
    "sp = Sphere((0,0,0),1).faces[0]\n",
    "mesh = Mesh(OCCGeometry(sp).GenerateMesh(maxh=0.2)).Curve(3)"
   ]
  },
  {
   "cell_type": "code",
   "execution_count": null,
   "id": "952d1a64-5685-42b6-b2c6-3b2440a655f7",
   "metadata": {},
   "outputs": [],
   "source": [
    "from ngsolve.bem import SphericalHarmonicsCF"
   ]
  },
  {
   "cell_type": "markdown",
   "id": "1f47d33b-af77-4ac0-ab75-e1b3e58016f6",
   "metadata": {},
   "source": [
    "We draw the spherical harmonics $Y_n^m$ of degree $n=8$ and order $m=3$. We see that $n$ gives the number of roots in the polar direction, and $2m$ is the number of roots in azimuthal direction:"
   ]
  },
  {
   "cell_type": "code",
   "execution_count": null,
   "id": "118d43b5-de52-4a74-87ca-66870f8ed742",
   "metadata": {},
   "outputs": [],
   "source": [
    "shcf = SphericalHarmonicsCF(10)\n",
    "shcf.sh[4,2] = 1\n",
    "Draw (shcf, mesh, animate_complex=True, order=3, euler_angles=[-27,-7,6]);"
   ]
  },
  {
   "cell_type": "markdown",
   "id": "f628694a-1cb1-471b-9cba-31d92cd7b33c",
   "metadata": {},
   "source": [
    "These functions form an $L_2$-orthonormal basis on the sphere."
   ]
  },
  {
   "cell_type": "markdown",
   "id": "9e057154-ebf9-4980-ad97-2905803b3e06",
   "metadata": {},
   "source": [
    "## Spherical Bessel and Hankel functions\n",
    "\n",
    "The spherical Hankel functions are expressed via spherical Bessel functions as\n",
    "\n",
    "$$\n",
    "h_n(x) = j_n(x) + i y_n(x),\n",
    "$$\n",
    "so we focus on the Bessel functions in the following (precisely, we are using Hankel functions of the first kind $h_n^{(1)}$)\n",
    "\n",
    "We define spherical Bessel functions of the first kind\n",
    "\n",
    "$$\n",
    "j_0(x) = \\frac{\\sin x}{x}, \\quad j_1(x) = \\frac{\\sin x - x \\cos x}{x^2}\n",
    "$$\n",
    "and\n",
    "\n",
    "$$\n",
    "j_{n+1}(x) = \\frac{2n+1}{x} j_n(x) - j_{n-1}(x) \\qquad n = 1, 2, 3, \\ldots \n",
    "$$\n",
    "\n",
    "with special setting $j_0(0) = 1$ and $j_n(0) = 0$ for $n \\geq 1$.\n",
    "\n",
    "and of the second kind:\n",
    "\n",
    "$$\n",
    "y_0(x) = -\\frac{\\cos x}{x}, \\quad y_1(x) = \\frac{-\\cos x - x \\sin x}{x^2}\n",
    "$$\n",
    "and\n",
    "\n",
    "$$\n",
    "y_{n+1}(x) = \\frac{2n+1}{x} y_n(x) - y_{n-1}(x) \\qquad n = 1, 2, 3, \\ldots \n",
    "$$\n",
    "\n",
    "Some facts:\n",
    "* Bessel functions of the first kind, $j_n$, are smooth up to $x = 0$.\n",
    "* Bessel functions of the second kind, $y_n$, have singularities at $x=0$ of order $n$.\n",
    "* Both satisfy the same recurrence relations"
   ]
  },
  {
   "cell_type": "markdown",
   "id": "bbab8654-415d-4d34-bf0d-2c6c17b73e5d",
   "metadata": {},
   "source": [
    "### Behavior for large $n$ and $x$\n",
    "\n",
    "We want to compute with large coefficients $n$ and large arguments $x$. Then the evaluation by the recurrences becomes unstable (for the $j_n$), and it requires sophisticated algorithms. \n",
    "\n",
    "Looking hat these functions at large index $n$ shows the interesting behavior:"
   ]
  },
  {
   "cell_type": "code",
   "execution_count": null,
   "id": "9c673ee2-8748-41d9-84e9-be343aa59fb0",
   "metadata": {},
   "outputs": [],
   "source": [
    "from scipy.special import spherical_jn, spherical_yn\n",
    "import matplotlib.pyplot as plt\n",
    "import numpy as np\n",
    "\n",
    "x = np.linspace(0,200, 1000)\n",
    "plt.ylim(-1.8,1.8)\n",
    "plt.plot (x, x*spherical_jn(50, x))\n",
    "with np.errstate(invalid='ignore'):\n",
    "    plt.plot (x, x*spherical_yn(50, x));"
   ]
  },
  {
   "cell_type": "markdown",
   "id": "5ddca41a-cc0f-4fc6-8771-2aa8399b4c11",
   "metadata": {},
   "source": [
    "For $x > n$, both Bessel functions are oscillating,  with amplitudes decreasing like $1/x$. For $x < n$, the $j_n$ are extremely small, while $y_n$ are extremely large. This explains the unstable behaviour of the recursion for the $j_n$. We use the recusion in $n$. For $n \\leq x$, the $j_n$ are $O(1)$, but for $n > x$ they become very small. Unavoidable roundoff errors for small $n$ lead to huge relative errors for the higher $n$. High quality implementations compute the recurrence backward, where it is stable, and also take care of leaving the range of floating point numbers, see e.g. the implementation from [FMM3D on github](https://github.com/flatironinstitute/FMM3D/blob/master/src/Common/besseljs3d.f)"
   ]
  },
  {
   "cell_type": "markdown",
   "id": "778d1cc9-8100-4cbc-9e79-135b2220f54f",
   "metadata": {},
   "source": [
    "## FMM transfer operators\n",
    "\n",
    "For the multilevel FMM we need basis transformation operators which\n",
    "* S->S: transforms a singular expansion to another singular expansion, of larger radis\n",
    "* S->R: transforms a singular expansion to a regular expansion, of sufficient distance\n",
    "* R->R: transform a regular expansion to a regular expansion, of smaller radius"
   ]
  },
  {
   "cell_type": "markdown",
   "id": "0272415b-18d0-4710-af8a-de50bd3b6eae",
   "metadata": {},
   "source": [
    "Transformations are a combination of \n",
    "* axial shifts, shifting an axpansion along the z-axis\n",
    "* rotations along the z axis (linear complexity)\n",
    "* rotations along the y axis"
   ]
  },
  {
   "cell_type": "markdown",
   "id": "03a536cc-9753-4273-b2e1-57195f392f93",
   "metadata": {},
   "source": [
    "One has to express new coefficients as\n",
    "\n",
    "$$\n",
    "\\tilde a_{mn} = T_{mnm^\\prime n^\\prime}  a_{m^\\prime n^\\prime}\n",
    "$$\n",
    "\n",
    "which are in general $O(N^4)$ operations, for $O(N^2)$ data."
   ]
  },
  {
   "cell_type": "markdown",
   "id": "dc703f34-68d7-4231-81d8-9bd28c6248d8",
   "metadata": {},
   "source": [
    "z-shift can be brouht to diagonal form\n",
    "$$\n",
    "\\tilde a_{mn} = T^{(m)}_{n n^\\prime} a_{m \\tilde n}\n",
    "$$\n",
    "as well as\n",
    "$$\n",
    "\\tilde a_{mn} = T^{(n)}_{m m^\\prime} a_{m \\tilde n}\n",
    "$$\n",
    "which reduces complexity to $O(N^3)$.\n",
    "\n",
    "The transformation matrices $T^{(m)}$ can be computed by recursions in $m$.\n",
    "\n",
    "Stability is an issue for large $N$. Recursions must be applied in stable direction!\n",
    "\n",
    "y-rotation: Gumerov+Duraiswami, '15\n",
    "\n",
    "z-shift: Dorigo+JS, '25"
   ]
  },
  {
   "cell_type": "code",
   "execution_count": null,
   "id": "f91c8ea7-08a4-4eaf-addf-dbee2dbae75b",
   "metadata": {},
   "outputs": [],
   "source": []
  }
 ],
 "metadata": {
  "kernelspec": {
   "display_name": "Python 3 (ipykernel)",
   "language": "python",
   "name": "python3"
  },
  "language_info": {
   "codemirror_mode": {
    "name": "ipython",
    "version": 3
   },
   "file_extension": ".py",
   "mimetype": "text/x-python",
   "name": "python",
   "nbconvert_exporter": "python",
   "pygments_lexer": "ipython3",
   "version": "3.13.7"
  },
  "widgets": {
   "application/vnd.jupyter.widget-state+json": {
    "state": {},
    "version_major": 2,
    "version_minor": 0
   }
  }
 },
 "nbformat": 4,
 "nbformat_minor": 5
}

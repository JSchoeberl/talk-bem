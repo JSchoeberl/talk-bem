{
 "cells": [
  {
   "cell_type": "markdown",
   "id": "beea4d31-748e-4abc-86e7-df3a1a980917",
   "metadata": {},
   "source": [
    "FEM-BEM Coupling\n",
    "==============\n",
    "\n",
    "The ngbem boundary element addon project initiated by Lucy Weggeler (see https://weggler.github.io/ngbem/intro.html) is now partly integrated into core NGSolve. Find a short and sweet introduction to the boundary element method there.\n",
    "\n",
    "In this demo we simulate a plate capacitor on an unbounded domain."
   ]
  },
  {
   "cell_type": "code",
   "execution_count": null,
   "id": "979ea90d-25a0-4090-afee-8c10b3036030",
   "metadata": {},
   "outputs": [],
   "source": [
    "from ngsolve import *\n",
    "from netgen.occ import *\n",
    "from ngsolve.solvers import GMRes, MinRes\n",
    "from ngsolve.webgui import Draw\n",
    "from ngsolve.bem import *"
   ]
  },
  {
   "cell_type": "code",
   "execution_count": null,
   "id": "756e9f3c-f8e8-4f20-8760-55ec37b4ffbf",
   "metadata": {},
   "outputs": [],
   "source": [
    "largebox = Box ((-2,-2,-2), (2,2,2) )\n",
    "eltop = Box ( (-1,-1,0.5), (1,1,1) )\n",
    "elbot = Box ( (-1,-1,-1), (1,1,-0.5))\n",
    "\n",
    "largebox.faces.name = \"outer\" # coupling boundary\n",
    "eltop.faces.name = \"el1\" # Dirichlet boundary\n",
    "elbot.faces.name = \"el2\" # Dirichlet boundary\n",
    "eltop.edges.hpref = 1\n",
    "elbot.edges.hpref = 1\n",
    "\n",
    "shell = largebox-eltop-elbot # FEM domain \n",
    "shell.solids.name = \"air\"\n",
    "\n",
    "mesh = shell.GenerateMesh(maxh=0.8)\n",
    "mesh.RefineHP(2)\n",
    "ea = { \"euler_angles\" : (-67, 0, 110) } \n",
    "Draw (mesh, clipping={\"x\":1, \"y\":0, \"z\":0, \"dist\" : 1.1}, **ea);"
   ]
  },
  {
   "cell_type": "markdown",
   "id": "dad74694-97ca-4679-b073-66242fd3dd43",
   "metadata": {},
   "source": [
    "On the **exterior** domain $\\Omega^c$, the solution can be expressed by the representation formula:\n",
    "\n",
    "$$ x \\in \\Omega^c: \\quad u(x) = - \\int\\limits_\\Gamma \\displaystyle{\\frac{1}{4\\,\\pi}\\, \\frac{1}{\\| x-y\\|} } \\, \\gamma_1 u (y)\\, \\mathrm{d}\\sigma_y + \\int\\limits_\\Gamma \\displaystyle{\\frac{1}{4\\,\\pi}\\, \\frac{\\langle n(y) , x-y\\rangle }{\\| x-y\\|^3} } \\, \\gamma_0 u (y)\\, \\mathrm{d}\\sigma_y\\,, $$ \n",
    "\n",
    "where $\\gamma_0 u = u$ and $\\gamma_1 u = \\frac{\\partial u}{\\partial n}$ are Dirichlet and Neumann traces.\n",
    "These traces are related by the Calderon projector\n",
    "\n",
    "$$  \\left( \\begin{array}{c} \\gamma_0 u \\\\ \\gamma_1 u \\end{array}\\right) =  \\left( \\begin{array}{cc} -V & \\frac12 + K \\\\ \\frac12 - K^\\intercal & -D \\end{array} \\right)  \\left( \\begin{array}{c} \\gamma_1 u \\\\ \\gamma_0 u \\end{array}\\right) $$.\n",
    "\n",
    "The $V$, $K$ are the single layer and double layer potential operators, and $D$ is the hypersingular operator.\n",
    "\n",
    "On the FEM domain we have the variational formulation\n",
    "\n",
    "$$\n",
    "\\int_{\\Omega_\\text{FEM}} \\nabla u \\nabla v \\, dx - \\int_\\Gamma \\gamma_1 u v \\, ds = 0 \\qquad \\forall \\, v \\in H^1(\\Omega_\\text{FEM})\n",
    "$$\n",
    "\n",
    "We use Calderon's represenataion formula for the Neumann trace:\n",
    "\n",
    "$$\n",
    "\\int_{\\Omega_\\text{FEM}} \\nabla u \\nabla v \\, dx - \\int_\\Gamma \\left( \\left( \\tfrac{1}{2} - K^\\intercal\\right) \\,\\gamma_1 u - D \\, \\gamma_0 u\\right)  v = 0 \\qquad \\forall \\, v \\in H^1(\\Omega_\\text{FEM})\n",
    "$$\n",
    "\n",
    "\n",
    "To get a closed system, we use also the first equation of the Calderon equations. \n",
    "To see the structure of the discretized system, the dofs are split into degrees of freedom inside $\\Omega$, and those on the boundary $\\Gamma$. The FEM matrix $A$ is split accordingly. We see, the coupled system is symmetric, but indefinite:\n",
    "  \n",
    "  $$ \\left( \\begin{array}{ccc } A_{\\Omega\\Omega} & A_{\\Omega\\Gamma} & 0 \\\\ A_{\\Gamma\\Omega} & A_{\\Gamma\\Gamma } + D & -\\frac12 M^\\intercal + K^\\intercal \\\\ 0 & -\\frac12 M + K & -V \\end{array}\\right) \\left( \\begin{array}{c} u \\\\ \\gamma_0 u \\\\ \\gamma_1 u \\end{array}\\right) = \\left( \\begin{array}{c} F_{\\Omega} \\\\ F_{\\Gamma}\\\\ 0 \\end{array}\\right) \\,. $$"
   ]
  },
  {
   "cell_type": "markdown",
   "id": "b772b7a1-5014-4e6b-bb2b-c6400ef93ac8",
   "metadata": {},
   "source": [
    "Generate the finite element space for $H^1(\\Omega)$ and set the given Dirichlet boundary conditions on the surfaces of the plates:"
   ]
  },
  {
   "cell_type": "code",
   "execution_count": null,
   "id": "0b66e8b8-766d-4d18-ba16-3a79872c8df4",
   "metadata": {},
   "outputs": [],
   "source": [
    "order = 4\n",
    "fesH1 = H1(mesh, order=order, dirichlet=\"el1|el2\") \n",
    "print (\"H1-ndof = \", fesH1.ndof)"
   ]
  },
  {
   "cell_type": "markdown",
   "id": "f688c5eb-7b86-4c6f-a200-e79993fb7ab4",
   "metadata": {},
   "source": [
    "The finite element space $\\verb-fesH1-$ provides $H^{\\frac12}(\\Gamma)$ conforming element to discretize the Dirichlet trace on the coupling boundary $\\Gamma$. However we still need $H^{-\\frac12}(\\Gamma)$ conforming elements to discretize the Neumann trace of $u$ on the coupling boundary. Here it is:"
   ]
  },
  {
   "cell_type": "code",
   "execution_count": null,
   "id": "84f70bba-7467-492c-9b48-a551b380a1b0",
   "metadata": {},
   "outputs": [],
   "source": [
    "fesL2 = SurfaceL2(mesh, order=order-1, dual_mapping=True, definedon=mesh.Boundaries(\"outer\")) \n",
    "print (\"L2-ndof = \", fesL2.ndof)"
   ]
  },
  {
   "cell_type": "code",
   "execution_count": null,
   "id": "5ec6210e-aa43-4b8b-b980-e4b1fcab1823",
   "metadata": {},
   "outputs": [],
   "source": [
    "fes = fesH1 * fesL2\n",
    "u,dudn = fes.TrialFunction()\n",
    "v,dvdn = fes.TestFunction()\n",
    "\n",
    "a = BilinearForm(grad(u)*grad(v)*dx, check_unused=False).Assemble() \n",
    "\n",
    "gfudir = GridFunction(fes)\n",
    "gfudir.components[0].Set ( mesh.BoundaryCF( { \"el1\" : 1, \"el2\" : -1 }), BND)\n",
    "\n",
    "f = LinearForm(fes).Assemble()\n",
    "res = (f.vec - a.mat * gfudir.vec).Evaluate()"
   ]
  },
  {
   "cell_type": "markdown",
   "id": "dd0088a2-a611-4eb9-b27e-211b358221c3",
   "metadata": {},
   "source": [
    "Generate the the single layer potential $V$, double layer potential $K$ and hypersingular operator $D$:"
   ]
  },
  {
   "cell_type": "code",
   "execution_count": null,
   "id": "3adf260a-ee03-42d0-85e6-7342ffbc4bde",
   "metadata": {},
   "outputs": [],
   "source": [
    "n = specialcf.normal(3)\n",
    "with TaskManager():\n",
    "    V = LaplaceSL(dudn*ds(\"outer\"))*dvdn*ds(\"outer\")\n",
    "    K = LaplaceDL(u*ds(\"outer\"))*dvdn*ds(\"outer\")\n",
    "    D = LaplaceSL(Cross(grad(u).Trace(),n)*ds(\"outer\"))*Cross(grad(v).Trace(),n)*ds(\"outer\")\n",
    "    M = BilinearForm(u*dvdn*ds(\"outer\"), check_unused=False).Assemble()"
   ]
  },
  {
   "cell_type": "markdown",
   "id": "e8816398-a7c7-41e0-bf23-05d060898794",
   "metadata": {},
   "source": [
    "Setup the coupled system matrix and the right hand side:"
   ]
  },
  {
   "cell_type": "code",
   "execution_count": null,
   "id": "9319af21-942f-443b-a0ad-1589172e69d1",
   "metadata": {},
   "outputs": [],
   "source": [
    "sym = a.mat+D.mat - (0.5*M.mat+K.mat).T - (0.5*M.mat+K.mat) - V.mat\n",
    "rhs = res\n",
    "\n",
    "bfpre = BilinearForm(grad(u)*grad(v)*dx+1e-10*u*v*dx  + dudn*dvdn*ds(\"outer\") ).Assemble()\n",
    "pre = bfpre.mat.Inverse(freedofs=fes.FreeDofs(), inverse=\"sparsecholesky\")"
   ]
  },
  {
   "cell_type": "markdown",
   "id": "0bfceafe-4e7c-428c-9ccc-3531a4ca442d",
   "metadata": {},
   "source": [
    "Compute the solution of the coupled system:"
   ]
  },
  {
   "cell_type": "code",
   "execution_count": null,
   "id": "ad6472b3-4f5f-4321-93cc-d0c138ca2d57",
   "metadata": {},
   "outputs": [],
   "source": [
    "with TaskManager():\n",
    "    sol_sym = MinRes(mat=sym, rhs=rhs, pre=pre, tol=1e-8, maxsteps=200, printrates=True)"
   ]
  },
  {
   "cell_type": "code",
   "execution_count": null,
   "id": "dc335873-1f14-451a-b3fd-d306e0831cd1",
   "metadata": {},
   "outputs": [],
   "source": [
    "gfu = GridFunction(fes)\n",
    "gfu.vec[:] = sol_sym + gfudir.vec \n",
    "Draw(gfu.components[0], clipping={\"x\" : 1, \"y\":0, \"z\":0, \"dist\":0.0, \"function\" : True }, **ea, order=2); "
   ]
  },
  {
   "cell_type": "markdown",
   "id": "4152e804-40fd-49af-abeb-71fbf971d39e",
   "metadata": {},
   "source": [
    "The Neumann data:"
   ]
  },
  {
   "cell_type": "code",
   "execution_count": null,
   "id": "a827b675-2877-40e1-8845-5c58bbe52104",
   "metadata": {},
   "outputs": [],
   "source": [
    "Draw (gfu.components[1], **ea, order=3);"
   ]
  },
  {
   "cell_type": "code",
   "execution_count": null,
   "id": "18e5e283-0731-4e4f-b934-449ea9f0e668",
   "metadata": {},
   "outputs": [],
   "source": []
  }
 ],
 "metadata": {
  "kernelspec": {
   "display_name": "Python 3 (ipykernel)",
   "language": "python",
   "name": "python3"
  },
  "language_info": {
   "codemirror_mode": {
    "name": "ipython",
    "version": 3
   },
   "file_extension": ".py",
   "mimetype": "text/x-python",
   "name": "python",
   "nbconvert_exporter": "python",
   "pygments_lexer": "ipython3",
   "version": "3.13.7"
  },
  "widgets": {
   "application/vnd.jupyter.widget-state+json": {
    "state": {},
    "version_major": 2,
    "version_minor": 0
   }
  }
 },
 "nbformat": 4,
 "nbformat_minor": 5
}

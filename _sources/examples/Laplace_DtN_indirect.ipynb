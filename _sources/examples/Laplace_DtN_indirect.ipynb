{
 "cells": [
  {
   "cell_type": "markdown",
   "id": "7ba2b304-c597-408f-8873-5b6f90444a7a",
   "metadata": {},
   "source": [
    "# Dirichlet Laplace Indirect Method\n",
    "\n",
    "**keys**: homogeneous Dirichlet bvp, single layer potential, ACA"
   ]
  },
  {
   "cell_type": "code",
   "execution_count": null,
   "id": "667a666a-3324-4cc0-a3f0-47ba7aa32d5c",
   "metadata": {},
   "outputs": [],
   "source": [
    "from netgen.occ import *\n",
    "from ngsolve import *\n",
    "from ngsolve.webgui import Draw\n",
    "from ngsolve.bem import *\n",
    "from ngsolve import Projector, Preconditioner\n",
    "from ngsolve.krylovspace import CG"
   ]
  },
  {
   "cell_type": "markdown",
   "id": "50961f97-7070-470d-9e2f-37599b1645a7",
   "metadata": {},
   "source": [
    "We consider the Dirichlet boundary value problem \n",
    "\n",
    "$$ \\left\\{ \\begin{array}{rcl l} \\Delta u &=& 0, \\quad &\\Omega \\subset \\mathbb R^3\\,,\\\\ \\gamma_0 u&=& u_0, \\quad &\\Gamma = \\partial \\Omega\\,.\\end{array} \\right. $$ \n",
    "\n",
    "Let us choose the following ansatz for the solution $u\\in H^1(\\Omega)$ (indirect ansatz) \n",
    "\n",
    "$$ u(x) = \\underbrace{ \\int\\limits_\\Gamma \\displaystyle{\\frac{1}{4\\,\\pi}\\, \\frac{1}{\\| x-y\\|} } \\, j(y)\\, \\mathrm{d}\\sigma_y }_{\\displaystyle{ \\mathrm{SL}(j) } }$$ \n",
    "\n",
    "and solve for the density $j\\in H^{-\\frac12}(\\Gamma)$ by the boundary element method, i.e. the numerical solution of the variational formulation \n",
    "\n",
    "$$ \\forall \\, v\\in H^{-\\frac12}(\\Gamma): \\quad \\left\\langle \\gamma_0 \\left(\\mathrm{SL}(j)\\right), v \\right\\rangle_{-\\frac12} = \\left\\langle u_0, v\\right\\rangle_{-\\frac12} \\,. $$\n",
    " "
   ]
  },
  {
   "cell_type": "markdown",
   "id": "be5f96f2-32b2-4d48-883f-8bc994f9388d",
   "metadata": {},
   "source": [
    "Define the geometry $\\Omega \\subset \\mathbb R^3$ and create a mesh:"
   ]
  },
  {
   "cell_type": "code",
   "execution_count": null,
   "id": "c7abb299-0827-4f90-8d0f-6239f08249b2",
   "metadata": {},
   "outputs": [],
   "source": [
    "sp = Sphere( (0,0,0), 1)\n",
    "mesh = Mesh( OCCGeometry(sp).GenerateMesh(maxh=0.3)).Curve(4)\n",
    "Draw (mesh);"
   ]
  },
  {
   "cell_type": "markdown",
   "id": "8f6fd26c-9809-458b-82e4-958a1206fd5a",
   "metadata": {},
   "source": [
    "Create test and trial function finite element spaces for $H^{-\\frac12}(\\Gamma)$ according to the given mesh:  "
   ]
  },
  {
   "cell_type": "code",
   "execution_count": null,
   "id": "d8c2c6d6-b3b3-4f91-8e2b-b63c146b6a09",
   "metadata": {},
   "outputs": [],
   "source": [
    "fesL2 = SurfaceL2(mesh, order=4)\n",
    "u,v = fesL2.TnT()"
   ]
  },
  {
   "cell_type": "markdown",
   "id": "1b0307f4-ad7f-4252-84ab-f4c8b14c896d",
   "metadata": {},
   "source": [
    "Define Dirichlet data $u_0$ and compute the right hand side vector:"
   ]
  },
  {
   "cell_type": "code",
   "execution_count": null,
   "id": "c3194f56-dc87-487a-9b08-1dcd99035665",
   "metadata": {},
   "outputs": [],
   "source": [
    "u0 = 1/ sqrt( (x-1)**2 + (y-1)**2 + (z-1)**2 )\n",
    "rhs = LinearForm (u0*v*ds(bonus_intorder=0)).Assemble()"
   ]
  },
  {
   "cell_type": "markdown",
   "id": "65d036eb-cafc-4ead-805f-afa0003212bf",
   "metadata": {},
   "source": [
    "The discretisation of the above variational formulation leads to a system of linear equations, ie \n",
    "\n",
    "$$ \\mathrm{V} \\, \\mathrm{j} =  \\mathrm{rhs} \\,, $$ \n",
    "where $\\mathrm{V}$ is the single layer potential operator. $\\mathrm V$ is regular and symmetric."
   ]
  },
  {
   "cell_type": "markdown",
   "id": "a59add1c-89d5-49ad-89c0-526338260741",
   "metadata": {},
   "source": [
    "Build the single layer operator $V$ as linear operator and solve for unknwon density $j$:"
   ]
  },
  {
   "cell_type": "code",
   "execution_count": null,
   "id": "e9b81bbd-aed2-44de-b7ca-0073de0bdff5",
   "metadata": {},
   "outputs": [],
   "source": [
    "j = GridFunction(fesL2)\n",
    "pre = BilinearForm(u*v*ds, diagonal=True).Assemble().mat.Inverse()\n",
    "with TaskManager():\n",
    "    V = LaplaceSL(u*ds)*v*ds\n",
    "    CG(mat = V.mat, pre=pre, rhs = rhs.vec, sol=j.vec, tol=1e-8, maxsteps=200, initialize=False, printrates=True)"
   ]
  },
  {
   "cell_type": "code",
   "execution_count": null,
   "id": "0a9e34b3-498d-46c8-b275-aa926b415d3f",
   "metadata": {
    "scrolled": true
   },
   "outputs": [],
   "source": [
    "Draw (j, order=3);"
   ]
  },
  {
   "cell_type": "markdown",
   "id": "fbc901fb-6c6f-418c-bbf9-c7dcc590a486",
   "metadata": {},
   "source": [
    "## Evaluate solution at plane"
   ]
  },
  {
   "cell_type": "code",
   "execution_count": null,
   "id": "dd74e1db-a0fa-41eb-b198-e334ffa611d2",
   "metadata": {},
   "outputs": [],
   "source": [
    "vismesh = (WorkPlane().RectangleC(4,4).Face()*Sphere((0,0,0),1)).GenerateMesh(maxh=0.2).Curve(4)\n",
    "sol = GridFunction(H1(vismesh,order=3))\n",
    "\n",
    "# SL = (LaplaceSL(u*ds)*v*ds).GetPotential(j, nearfield_experimental=False)\n",
    "SL = LaplaceSL(u*ds(bonus_intorder=4))(j)\n",
    "\n",
    "sol.Set (SL, definedon=vismesh.Boundaries(\".*\"))\n",
    "Draw (sol, vismesh, order=3);"
   ]
  },
  {
   "cell_type": "markdown",
   "id": "2f08febc-4846-423b-8e08-47a052fac90b",
   "metadata": {},
   "source": [
    "and compute error:"
   ]
  },
  {
   "cell_type": "code",
   "execution_count": null,
   "id": "c9c0c5c2-740b-4d83-aec0-8cacfc025a11",
   "metadata": {},
   "outputs": [],
   "source": [
    "norm_err = sqrt (Integrate ( (sol-u0)**2 * ds, vismesh))\n",
    "norm_u0 = sqrt (Integrate ( (u0)**2 * ds, vismesh))\n",
    "print (\"||err|| =\", norm_err, \", ||u0|| =\", norm_u0)"
   ]
  },
  {
   "cell_type": "code",
   "execution_count": null,
   "id": "47c99f19-9ae2-4268-8302-eeff8611b4ed",
   "metadata": {},
   "outputs": [],
   "source": []
  }
 ],
 "metadata": {
  "kernelspec": {
   "display_name": "Python 3 (ipykernel)",
   "language": "python",
   "name": "python3"
  },
  "language_info": {
   "codemirror_mode": {
    "name": "ipython",
    "version": 3
   },
   "file_extension": ".py",
   "mimetype": "text/x-python",
   "name": "python",
   "nbconvert_exporter": "python",
   "pygments_lexer": "ipython3",
   "version": "3.13.7"
  },
  "widgets": {
   "application/vnd.jupyter.widget-state+json": {
    "state": {},
    "version_major": 2,
    "version_minor": 0
   }
  }
 },
 "nbformat": 4,
 "nbformat_minor": 5
}

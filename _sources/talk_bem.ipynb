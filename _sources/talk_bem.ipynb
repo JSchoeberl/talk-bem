{
 "cells": [
  {
   "cell_type": "markdown",
   "id": "69bc83f8",
   "metadata": {},
   "source": [
    "# High order boundary element methods in NGSolve\n",
    "\n",
    "**Joachim Schöberl** <br>\n",
    "TU Wien\n",
    "\n",
    "<img src=\"pictures/TU_Wien.png\" width=\"100\">\n",
    "\n",
    "with contributions by \n",
    "**Lucy Weggler**, HTW Berlin<br>\n",
    "**Rafael Dorigo**, TU Wien<br>\n",
    "\n",
    "**** Söllerhausworkshop, Kleinwalsertal, September 2025****\n",
    "\n",
    "This presentation uses the open-source finite element library NGSolve (www.ngsolve.org) within Jupyter Notebooks. \n",
    "\n",
    "<img src=\"pictures/NGSlogo.png\" width=\"100\" align=\"center\">"
   ]
  },
  {
   "cell_type": "markdown",
   "id": "cacacf4b-fb71-4b21-96dd-16899ee43797",
   "metadata": {},
   "source": [
    "The talk is available online from \n",
    "[https://jschoeberl.github.io/talk-bem](https://jschoeberl.github.io/talk-bem)\n",
    "\n",
    "<img src=\"pictures/talk-pdesoft-QR.png\" width=\"0\" align=\"center\">"
   ]
  },
  {
   "cell_type": "markdown",
   "id": "41d4e570-f837-4d0c-9f93-fc94c238e5a7",
   "metadata": {},
   "source": [
    "## Starting Point\n",
    "\n",
    "* NGSolve is a high order open source finite element package\n",
    "* Lucy Weggler has developed high order BEM for Maxwell in her Phd\n",
    "* After two weeks joint effort we had a high order BEM package ngbem as NGSolve addon\n",
    "* Now, BEM matrix setup and FMM acceleartion is included into the NGSolve core library"
   ]
  },
  {
   "cell_type": "markdown",
   "id": "f50399f5",
   "metadata": {},
   "source": [
    "## Some first examples:\n",
    "* Laplace DtN: [indirect](examples/Laplace_DtN_indirect.ipynb) [direct](examples/Laplace_DtN_direct.ipynb) \n",
    "* [FEM-BEM coupling](examples/fembem.ipynb)\n",
    "* [Helmholtz scattering](examples/BrakhageWerner.ipynb)"
   ]
  },
  {
   "cell_type": "markdown",
   "id": "3a2dfb5e",
   "metadata": {},
   "source": [
    "If you like to try out this talk on your computer:\n",
    "\n",
    "    python3 -m pip install numpy scipy matplotlib ipywidgets jupyter notebook \n",
    "    python3 -m pip install --upgrade --pre ngsolve webgui_jupyter_widgets\n",
    "\n",
    "\n",
    "Download notebooks from the jupyter-book, and run them like\n",
    "\n",
    "    jupyter-notebook fembem.ipynb\n",
    "\n",
    "\n",
    "Some more online material:\n",
    "\n",
    "* [NGSolve tutorials](https://docu.ngsolve.org/latest/i-tutorials/index.html)\n",
    "* [NGSolve-based finite element class](https://jschoeberl.github.io/iFEM/intro.html)\n",
    "* [NGSolve24 tutorials](https://docu.ngsolve.org/ngs24/intro.html)\n"
   ]
  },
  {
   "cell_type": "markdown",
   "id": "a68498a6-3a8d-44e8-8926-09488db8ddc7",
   "metadata": {},
   "source": [
    "## Fast Multipole Methods\n",
    "\n",
    "* [Fast Multipole Method](multipole/intro_fmm.ipynb)\n",
    "* [Multipole Basisfunctions](multipole/basisfunctions.ipynb)\n",
    "* [Biot-Savart](multipole/BiotSavart.ipynb)\n"
   ]
  },
  {
   "cell_type": "markdown",
   "id": "56aefbfe-41f8-4970-a71c-7a0a152b556b",
   "metadata": {},
   "source": [
    "## I like hear more from you \n",
    "\n",
    "* What are the needs for a general purpose BEM - package\n",
    "* Preconditioning\n",
    "* Nearfield evaluation"
   ]
  },
  {
   "cell_type": "code",
   "execution_count": null,
   "id": "af6b36b2-1cfe-4eb0-bb80-89d77c2179e1",
   "metadata": {},
   "outputs": [],
   "source": []
  }
 ],
 "metadata": {
  "kernelspec": {
   "display_name": "Python 3 (ipykernel)",
   "language": "python",
   "name": "python3"
  },
  "language_info": {
   "codemirror_mode": {
    "name": "ipython",
    "version": 3
   },
   "file_extension": ".py",
   "mimetype": "text/x-python",
   "name": "python",
   "nbconvert_exporter": "python",
   "pygments_lexer": "ipython3",
   "version": "3.13.7"
  },
  "widgets": {
   "application/vnd.jupyter.widget-state+json": {
    "state": {},
    "version_major": 2,
    "version_minor": 0
   }
  }
 },
 "nbformat": 4,
 "nbformat_minor": 5
}

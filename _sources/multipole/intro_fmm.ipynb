{
 "cells": [
  {
   "cell_type": "markdown",
   "id": "24aada8c-203f-48f6-b776-07dd0e232bdd",
   "metadata": {},
   "source": [
    "# Fast Multipole Methods\n",
    "\n",
    "Many simulations in physics require to compute global particle-particle interactions, for example gravity potentials\n",
    "\n",
    "$$\n",
    "V(x_j) = - \\sum_{i=1}^N \\frac{G m_i}{\\| x_j - y_i \\| } \\qquad \\forall j, 1 \\leq j \\leq M,\n",
    "$$\n",
    "\n",
    "where for $1 \\leq i \\leq N$, $m_i$ are point-masses in $y_i$. This potential as well it's gradients must be evaluated in target points $x_j$. A direct evaluation requires $O(N M)$ operations. With fast multipole methods one can reduce that to $O((N+M) \\log \\varepsilon^{-1})$ operations, where $\\varepsilon$ is the required accuracy.\n",
    "\n",
    "The FMM - algorithm is considered to be one of the top-10 algorithms of the 20th century:\n",
    "[top 10 algorithms](https://www.computer.org/csdl/magazine/cs/2000/01/c1022/13rRUxBJhBm)\n",
    "\n",
    "* Leslie Greengard, Vladimir Rokhlin: A fast algorithm for particle simulations, Journal of computational physics 73 (1987)\n",
    "* Nail A. Gumerov, Ramani Duraiswami: Fast multipole methods for the Helmholtz equation in three dimensions, Elsevier (2004)\n",
    "\n",
    "We are going to introduce the FMM for the Helmholtz equation, where the summation kernel is Green's function for the the 3D Helmholtz operator $\\Delta + \\kappa^2 I$, with wave number $\\kappa$\n",
    "$$\n",
    "k(x,y) = \\frac{e^{i \\kappa |x-y|} }{4 \\pi |x-y|}.\n",
    "$$"
   ]
  },
  {
   "cell_type": "markdown",
   "id": "ac1e7e99-aeb4-4543-87a1-547899c32e9d",
   "metadata": {},
   "source": [
    "## A multipole function"
   ]
  },
  {
   "cell_type": "code",
   "execution_count": null,
   "id": "4083d0f4-0627-4828-999c-62e7767013bc",
   "metadata": {},
   "outputs": [],
   "source": [
    "from ngsolve import *\n",
    "from netgen.occ import *\n",
    "from ngsolve.webgui import Draw\n",
    "r = WorkPlane().RectangleC(20,20).Face()\n",
    "mesh = r.GenerateMesh(maxh=1)"
   ]
  },
  {
   "cell_type": "code",
   "execution_count": null,
   "id": "85b0dfe5-65e4-49d4-b057-8be3574869fc",
   "metadata": {},
   "outputs": [],
   "source": [
    "kappa = 2*pi"
   ]
  },
  {
   "cell_type": "markdown",
   "id": "c61a3016-21c4-42fb-86e1-1b5c80c7a695",
   "metadata": {},
   "source": [
    "## A multipole function"
   ]
  },
  {
   "cell_type": "markdown",
   "id": "e7bb0086-0061-4e86-a65a-ebc262cba001",
   "metadata": {},
   "source": [
    "NGSolve provides a multipole coefficient-function. This is a sum of point potential, dipole, triplepole, quadrupole etc. up to a specified order. One can add point charges, and it computes the approximation of the potential by a multipole:"
   ]
  },
  {
   "cell_type": "code",
   "execution_count": null,
   "id": "bda5e63d-23cf-471a-826d-d1b043906573",
   "metadata": {},
   "outputs": [],
   "source": [
    "from ngsolve.bem import SingularExpansionCF"
   ]
  },
  {
   "cell_type": "code",
   "execution_count": null,
   "id": "fa6bfc45-6191-4fd6-b883-874cef82b21a",
   "metadata": {},
   "outputs": [],
   "source": [
    "S = SingularExpansionCF(10, kappa, (0,0,0))\n",
    "S.AddCharge ((0,0.25,0), 1)\n",
    "S.AddCharge ((0,-0.25,0), -1)\n",
    "\n",
    "Draw (S, mesh, min=-0.1,max=0.1, animate_complex=True, order=6);"
   ]
  },
  {
   "cell_type": "markdown",
   "id": "c410c687-2179-4fd8-aa6d-eee8b6f2a699",
   "metadata": {},
   "source": [
    "This approximation cannot work everywhere: The original potential is singular at the given charge, but the multipole approximation is a smooth function. Now let's look closer to the sources. We observer a divergent multipole sum inside a ball, which radius is given by the maximal distance of the charge to the origin of the multipole. Outside the radius we observe a convergent series, where the convergence is faster if we are further from the origin."
   ]
  },
  {
   "cell_type": "code",
   "execution_count": null,
   "id": "35e43cdb-1ed4-4f72-99c2-44efc243f186",
   "metadata": {},
   "outputs": [],
   "source": [
    "S = SingularExpansionCF(20, kappa/5, (0,0,0))\n",
    "S.AddCharge ((0,1,0), 1)\n",
    "S.AddCharge ((0,-1,0), -1)\n",
    "\n",
    "Draw (S, mesh, min=-0.1,max=0.1, animate_complex=True, order=3);"
   ]
  },
  {
   "cell_type": "markdown",
   "id": "098f437a-f428-487b-b984-ca8956b6e021",
   "metadata": {},
   "source": [
    "## Regular expansion\n",
    "\n",
    "Away from the origin of the multipole, the function is smooth. We introduce regular approximations on balls contained in the domain of convergence of the singular multipole. We call them regular multipoles. The `Transform` method of a multipole object computes the expansion coefficients of the target multipole.\n",
    "\n",
    "* We have a charge at (2,0,0)\n",
    "* We approximate its potential by a singular multipole centered at (0,0,0). Domain of convergence is outside a ball of radius 2\n",
    "* The we approximate that singular multipole by a regular multipole centered at (5,0,0). It converges inside a ball of radius 3 (centered at (5,0,0,)) to the potential of the given charge. Outside that ball we observe divergence of the regular multipole."
   ]
  },
  {
   "cell_type": "code",
   "execution_count": null,
   "id": "f2245080-84a3-480b-b32a-a852caf85790",
   "metadata": {},
   "outputs": [],
   "source": [
    "from ngsolve.bem import RegularExpansionCF\n",
    "\n",
    "S = SingularExpansionCF(50, kappa, (0,0,0))\n",
    "S.AddCharge ((2,0,0), 3)\n",
    "\n",
    "R = RegularExpansionCF(50, kappa, (5,0,0) )\n",
    "S.Transform(R)\n",
    "\n",
    "Draw (S, mesh, min=-0.1,max=0.1, animate_complex=True, order=5);\n",
    "Draw (R, mesh, min=-0.1,max=0.1, animate_complex=True, order=5);"
   ]
  },
  {
   "cell_type": "markdown",
   "id": "d8eb86bd-fe4a-4edf-879a-ce6dd33b1ba3",
   "metadata": {},
   "source": [
    "We see that we cannot approximate the potentials everywhere by sindular or regular multipoles. But, we can fill the space by balls (or complements of balls), and compute multipole coefficients for each ball, and use that multipole to represent the function."
   ]
  },
  {
   "cell_type": "code",
   "execution_count": null,
   "id": "8550c767-80b0-41b4-8644-63869efbebe9",
   "metadata": {},
   "outputs": [],
   "source": []
  }
 ],
 "metadata": {
  "kernelspec": {
   "display_name": "Python 3 (ipykernel)",
   "language": "python",
   "name": "python3"
  },
  "language_info": {
   "codemirror_mode": {
    "name": "ipython",
    "version": 3
   },
   "file_extension": ".py",
   "mimetype": "text/x-python",
   "name": "python",
   "nbconvert_exporter": "python",
   "pygments_lexer": "ipython3",
   "version": "3.13.7"
  },
  "widgets": {
   "application/vnd.jupyter.widget-state+json": {
    "state": {},
    "version_major": 2,
    "version_minor": 0
   }
  }
 },
 "nbformat": 4,
 "nbformat_minor": 5
}

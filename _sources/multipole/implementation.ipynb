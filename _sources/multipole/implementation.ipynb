{
 "cells": [
  {
   "cell_type": "markdown",
   "id": "0ddfeec9-fc65-4b91-a391-8c780a2d5348",
   "metadata": {},
   "source": [
    "# Implementation by recursion"
   ]
  },
  {
   "cell_type": "code",
   "execution_count": null,
   "id": "afb9ca82-ed52-410f-9f2f-83000c2262f9",
   "metadata": {},
   "outputs": [],
   "source": []
  }
 ],
 "metadata": {
  "kernelspec": {
   "display_name": "Python 3 (ipykernel)",
   "language": "python",
   "name": "python3"
  },
  "language_info": {
   "codemirror_mode": {
    "name": "ipython",
    "version": 3
   },
   "file_extension": ".py",
   "mimetype": "text/x-python",
   "name": "python",
   "nbconvert_exporter": "python",
   "pygments_lexer": "ipython3",
   "version": "3.13.7"
  }
 },
 "nbformat": 4,
 "nbformat_minor": 5
}
